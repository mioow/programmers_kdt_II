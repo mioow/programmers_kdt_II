{
 "cells": [
  {
   "cell_type": "markdown",
   "id": "fff245c1",
   "metadata": {},
   "source": [
    "## Core Mission\n",
    "  \n",
    "  ### 다음 질문에 답하시오.\n",
    "   \n",
    "   - 캐릭터는 저마다 지능, 힘, ... 등 다양한 수치를 지니고 있다. 이러한 수치의 합이 가장 큰 캐릭터는 누구인가? 이를 보이기 위한 과정을 보여라.\n",
    "   \n",
    "   - 좋은 캐릭터와 나쁜 캐릭터의 능력치들의 수치 분포를 알고 싶다. 이를 표현하기 위한 적절한 그래프를 선택해서 이를 위한 전처리를 진행하고, 시각화하여라."
   ]
  },
  {
   "cell_type": "code",
   "execution_count": 1,
   "id": "cdd37c63",
   "metadata": {},
   "outputs": [],
   "source": [
    "import numpy as np\n",
    "import pandas as pd\n",
    "import matplotlib.pyplot as plt\n",
    "import seaborn as sns\n",
    "\n",
    "%matplotlib inline"
   ]
  },
  {
   "cell_type": "code",
   "execution_count": 87,
   "id": "c1ec5513",
   "metadata": {},
   "outputs": [],
   "source": [
    "charcters_stats = pd.read_csv(\"./charcters_stats.csv\")"
   ]
  },
  {
   "cell_type": "markdown",
   "id": "f875f37f",
   "metadata": {},
   "source": [
    "## 수치의 합이 가장 큰 캐릭터는 누구인가? 이를 보이기 위한 과정을 보여라.\n",
    "\n",
    "  - `Total` column이 수치들의 합인 것을 알 수 있었다.\n",
    "  - 가장 큰 값만 확인하면 되기 때문에 내림차순으로 정렬하여 head하나를 뽑아본다."
   ]
  },
  {
   "cell_type": "code",
   "execution_count": 16,
   "id": "e3986f72",
   "metadata": {},
   "outputs": [
    {
     "data": {
      "text/html": [
       "<div>\n",
       "<style scoped>\n",
       "    .dataframe tbody tr th:only-of-type {\n",
       "        vertical-align: middle;\n",
       "    }\n",
       "\n",
       "    .dataframe tbody tr th {\n",
       "        vertical-align: top;\n",
       "    }\n",
       "\n",
       "    .dataframe thead th {\n",
       "        text-align: right;\n",
       "    }\n",
       "</style>\n",
       "<table border=\"1\" class=\"dataframe\">\n",
       "  <thead>\n",
       "    <tr style=\"text-align: right;\">\n",
       "      <th></th>\n",
       "      <th>Name</th>\n",
       "      <th>Alignment</th>\n",
       "      <th>Intelligence</th>\n",
       "      <th>Strength</th>\n",
       "      <th>Speed</th>\n",
       "      <th>Durability</th>\n",
       "      <th>Power</th>\n",
       "      <th>Combat</th>\n",
       "      <th>Total</th>\n",
       "    </tr>\n",
       "  </thead>\n",
       "  <tbody>\n",
       "    <tr>\n",
       "      <th>361</th>\n",
       "      <td>Martian Manhunter</td>\n",
       "      <td>good</td>\n",
       "      <td>100</td>\n",
       "      <td>100</td>\n",
       "      <td>96</td>\n",
       "      <td>100</td>\n",
       "      <td>100</td>\n",
       "      <td>85</td>\n",
       "      <td>581</td>\n",
       "    </tr>\n",
       "  </tbody>\n",
       "</table>\n",
       "</div>"
      ],
      "text/plain": [
       "                  Name Alignment  Intelligence  Strength  Speed  Durability  \\\n",
       "361  Martian Manhunter      good           100       100     96         100   \n",
       "\n",
       "     Power  Combat  Total  \n",
       "361    100      85    581  "
      ]
     },
     "execution_count": 16,
     "metadata": {},
     "output_type": "execute_result"
    }
   ],
   "source": [
    "charcters_stats.sort_values(by=['Total'], ascending = False).head(1)"
   ]
  },
  {
   "cell_type": "markdown",
   "id": "e2599af0",
   "metadata": {},
   "source": [
    "### `Martian Manhunter` 가 수치합 581로 가장 높은 값을 가지고 있다."
   ]
  },
  {
   "cell_type": "code",
   "execution_count": null,
   "id": "218f1de6",
   "metadata": {},
   "outputs": [],
   "source": []
  },
  {
   "cell_type": "markdown",
   "id": "33c3a3a0",
   "metadata": {},
   "source": [
    "## 좋은 캐릭터와 나쁜 캐릭터의 능력치들의 수치 분포를 알고 싶다. 이를 표현하기 위한 적절한 그래프를 선택해서 이를 위한 전처리를 진행하고, 시각화하여라."
   ]
  },
  {
   "cell_type": "code",
   "execution_count": 20,
   "id": "bcd397d2",
   "metadata": {},
   "outputs": [
    {
     "data": {
      "text/plain": [
       "array(['good', 'bad', nan, 'neutral'], dtype=object)"
      ]
     },
     "execution_count": 20,
     "metadata": {},
     "output_type": "execute_result"
    }
   ],
   "source": [
    "charcters_stats['Alignment'].unique()"
   ]
  },
  {
   "cell_type": "markdown",
   "id": "bd3d257f",
   "metadata": {},
   "source": [
    "### good, bad, nan, neutral이 존재한다 결측치가 있는 row는 제외하고 계산 하는 것이 좋아 보임"
   ]
  },
  {
   "cell_type": "code",
   "execution_count": 75,
   "id": "23dc50b9",
   "metadata": {},
   "outputs": [
    {
     "name": "stdout",
     "output_type": "stream",
     "text": [
      "<class 'pandas.core.frame.DataFrame'>\n"
     ]
    }
   ],
   "source": [
    "good_charcters_stats = charcters_stats[charcters_stats['Alignment'] == 'good']\n",
    "good_charcters_stats\n",
    "\n",
    "print(type(good_charcters_stats))"
   ]
  },
  {
   "cell_type": "code",
   "execution_count": 76,
   "id": "e768ed62",
   "metadata": {},
   "outputs": [
    {
     "name": "stdout",
     "output_type": "stream",
     "text": [
      "<class 'pandas.core.frame.DataFrame'>\n"
     ]
    }
   ],
   "source": [
    "bad_charcters_stats = charcters_stats[charcters_stats['Alignment'] == 'bad']\n",
    "bad_charcters_stats\n",
    "\n",
    "print(type(bad_charcters_stats))"
   ]
  },
  {
   "cell_type": "code",
   "execution_count": 85,
   "id": "4c3d7bd3",
   "metadata": {},
   "outputs": [
    {
     "data": {
      "image/png": "[encoded data removed]",
      "text/plain": [
       "<Figure size 432x288 with 1 Axes>"
      ]
     },
     "metadata": {
      "needs_background": "light"
     },
     "output_type": "display_data"
    }
   ],
   "source": [
    "plt.boxplot((good_charcters_stats['Total'],bad_charcters_stats['Total']))\n",
    "plt.show()"
   ]
  },
  {
   "cell_type": "code",
   "execution_count": 78,
   "id": "8e7e5e65",
   "metadata": {},
   "outputs": [
    {
     "data": {
      "text/plain": [
       "array(['Intelligence', 'Strength', 'Speed', 'Durability', 'Power',\n",
       "       'Combat'], dtype=object)"
      ]
     },
     "execution_count": 78,
     "metadata": {},
     "output_type": "execute_result"
    }
   ],
   "source": [
    "charcters_column = charcters_stats.columns.values\n",
    "\n",
    "charcters_column = charcters_column[2:8]\n",
    "\n",
    "charcters_column"
   ]
  },
  {
   "cell_type": "code",
   "execution_count": 86,
   "id": "ec47e663",
   "metadata": {},
   "outputs": [
    {
     "data": {
      "image/png": "[encoded data removed]",
      "text/plain": [
       "<Figure size 432x288 with 1 Axes>"
      ]
     },
     "metadata": {
      "needs_background": "light"
     },
     "output_type": "display_data"
    }
   ],
   "source": [
    "x = np.arange(len(x_label))\n",
    "width = 0.35\n",
    "\n",
    "good_charcters_stats_mean = []\n",
    "bad_charcters_stats_mean = []\n",
    "\n",
    "#print(type(bad_charcters_stats_mean))\n",
    "#print(type(good_charcters_stats))\n",
    "#print(type(bad_charcters_stats))\n",
    "# ???? 왜 타입이 다르지\n",
    "# ??? 왜 또 같아짐\n",
    "\n",
    "for i in charcters_column:\n",
    "    good_charcters_stats_mean.append(good_charcters_stats[i].mean())\n",
    "    bad_charcters_stats_mean.append(bad_charcters_stats[i].mean())\n",
    "    \n",
    "fig, axes = plt.subplots()\n",
    "\n",
    "axes.bar(x - width/2, good_charcters_stats_mean, width, align='center', alpha=0.5)\n",
    "axes.bar(x + width/2, bad_charcters_stats_mean, width, align='center', alpha=0.5)\n",
    "\n",
    "plt.xticks(x)\n",
    "axes.set_xticklabels(charcters_column)\n",
    "\n",
    "plt.title(\"stats mean\")\n",
    "plt.legend(['Good', 'Bad'])\n",
    "plt.show()"
   ]
  },
  {
   "cell_type": "markdown",
   "id": "7e6f6160",
   "metadata": {},
   "source": [
    "## 나쁜 캐릭터가 모든 수치에서 우위를 보인다."
   ]
  },
  {
   "cell_type": "markdown",
   "id": "f161ee12",
   "metadata": {},
   "source": [
    "# Extra Mission\n",
    " \n",
    " ## 다음 질문에 답하시오.\n",
    "   - 캐릭터는 저마다 지능, 힘, ... 등 다양한 수치를 지니고 있다. 또한 각 캐릭터는 DC, 마블 등 다양한 코믹스 회사를 바탕으로 하고 있다. 어떤 코믹스 회사의 캐릭터들이 능력치 합의 평균이 가장 큰가? 이를 보이기 위한 과정을 보여라.\n",
    "   \n",
    "   - 좋은 캐릭터와 나쁜 캐릭터가 격돌한다고 한다. 격돌하는 경우 캐릭터들의 능력치의 합의 평균이 큰 팀이 이긴다고 한다. 단, 불의를 못참는 중립 캐릭터들은 중립캐릭터가 없었을 당시에 열세인 팀에 가담한다. 이러한 상황일때 결과적으로 어떤 캐릭터 진영이 승리할 것인가? 이를 보이기 위한 과정을 보여라.\n",
    "   \n",
    "   - 이 데이터를 이용해 진행하고 싶은 EDA 및 시각화가 있다면 자유롭게 진행하여라."
   ]
  },
  {
   "cell_type": "code",
   "execution_count": null,
   "id": "1c63eb3c",
   "metadata": {},
   "outputs": [],
   "source": []
  }
 ],
 "metadata": {
  "kernelspec": {
   "display_name": "Python 3",
   "language": "python",
   "name": "python3"
  },
  "language_info": {
   "codemirror_mode": {
    "name": "ipython",
    "version": 3
   },
   "file_extension": ".py",
   "mimetype": "text/x-python",
   "name": "python",
   "nbconvert_exporter": "python",
   "pygments_lexer": "ipython3",
   "version": "3.9.4"
  }
 },
 "nbformat": 4,
 "nbformat_minor": 5
}

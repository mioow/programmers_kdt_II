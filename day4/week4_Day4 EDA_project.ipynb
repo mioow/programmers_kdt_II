{
 "cells": [
  {
   "cell_type": "markdown",
   "id": "1d3edc68",
   "metadata": {},
   "source": [
    "# Day 4, 데이터로 탐험을 떠나요!\n",
    "## Day 3 마지막 부분에서 소개해드린 EDA를 진행해주세요.\n",
    "\n",
    "  1. 여러분이 선호하는 데이터셋을 선정해주세요\n",
    "  2. 이 데이터셋에 대한 여러 가설을 세워주세요.\n",
    "  3. 가설을 증명하기 위한 여러 데이터 분석 / 시각화를 진행해주세요."
   ]
  },
  {
   "cell_type": "markdown",
   "id": "1755e84f",
   "metadata": {},
   "source": [
    "## 모바일 폰 데이터\n",
    "https://www.kaggle.com/iabhishekofficial/mobile-price-classification\n",
    " ### 가설\n",
    "   1. 화면크기가 커지면 배터리 용량이 커질것이다.\n",
    "   2. 코어클럭은 코어수에 반비례하고 코어클럭과 코어수는 가격에 비례한다.\n",
    "   3. 해상도가 높아지면 가격이 높아진다."
   ]
  },
  {
   "cell_type": "code",
   "execution_count": 2,
   "id": "88ace2f8",
   "metadata": {},
   "outputs": [],
   "source": [
    "import numpy as np\n",
    "import pandas as pd\n",
    "import matplotlib.pyplot as plt\n",
    "import seaborn as sns\n",
    "\n",
    "%matplotlib inline"
   ]
  },
  {
   "cell_type": "code",
   "execution_count": 3,
   "id": "86fd3a38",
   "metadata": {},
   "outputs": [],
   "source": [
    "### 데이터 불러오기\n",
    "\n",
    "mobile_df = pd.read_csv(\"./train.csv\")"
   ]
  },
  {
   "cell_type": "markdown",
   "id": "aaa43f49",
   "metadata": {},
   "source": [
    "## Column\n",
    "\n",
    " 1. 배터리 용량\n",
    " 2. 블루투스 유무\n",
    " 3. 코어 클럭\n",
    " 4. 듀얼심 지원 유무\n",
    " 5. 전면카메라 화소(백만)\n",
    " 6. 4G 탑재 유무\n",
    " 7. 저장소 용량(기가)\n",
    " 8. 모바일 폰 두께(cm)\n",
    " 9. 모바일 폰 무게\n",
    " 10. 프로세서 코어 수\n",
    " 11. 기본 카메라 화소(백만)\n",
    " 12. 세로 해상도\n",
    " 13. 가로 해상도\n",
    " 14. 메모리 용량\n",
    " 15. 화면 길이\n",
    " 16. 화면 넓이\n",
    " 17. 한번 충전으로 쓸 수 있는 배터리 시간\n",
    " 18. 3G 유무\n",
    " 19. 터치스크린 유무\n",
    " 20. Wi-Fi 유무\n",
    " 21. 가격 범위(0: 저비용, 1 : 중비용, 2 : 고비용, 3 : 매우 높은 비용)"
   ]
  },
  {
   "cell_type": "code",
   "execution_count": 4,
   "id": "ad718d8b",
   "metadata": {},
   "outputs": [
    {
     "data": {
      "text/html": [
       "<div>\n",
       "<style scoped>\n",
       "    .dataframe tbody tr th:only-of-type {\n",
       "        vertical-align: middle;\n",
       "    }\n",
       "\n",
       "    .dataframe tbody tr th {\n",
       "        vertical-align: top;\n",
       "    }\n",
       "\n",
       "    .dataframe thead th {\n",
       "        text-align: right;\n",
       "    }\n",
       "</style>\n",
       "<table border=\"1\" class=\"dataframe\">\n",
       "  <thead>\n",
       "    <tr style=\"text-align: right;\">\n",
       "      <th></th>\n",
       "      <th>battery_power</th>\n",
       "      <th>clock_speed</th>\n",
       "      <th>int_memory</th>\n",
       "      <th>mobile_wt</th>\n",
       "      <th>n_cores</th>\n",
       "      <th>px_height</th>\n",
       "      <th>px_width</th>\n",
       "      <th>ram</th>\n",
       "      <th>sc_h</th>\n",
       "      <th>sc_w</th>\n",
       "      <th>talk_time</th>\n",
       "      <th>touch_screen</th>\n",
       "      <th>price_range</th>\n",
       "    </tr>\n",
       "  </thead>\n",
       "  <tbody>\n",
       "    <tr>\n",
       "      <th>0</th>\n",
       "      <td>842</td>\n",
       "      <td>2.2</td>\n",
       "      <td>7</td>\n",
       "      <td>188</td>\n",
       "      <td>2</td>\n",
       "      <td>20</td>\n",
       "      <td>756</td>\n",
       "      <td>2549</td>\n",
       "      <td>9</td>\n",
       "      <td>7</td>\n",
       "      <td>19</td>\n",
       "      <td>0</td>\n",
       "      <td>1</td>\n",
       "    </tr>\n",
       "    <tr>\n",
       "      <th>1</th>\n",
       "      <td>1021</td>\n",
       "      <td>0.5</td>\n",
       "      <td>53</td>\n",
       "      <td>136</td>\n",
       "      <td>3</td>\n",
       "      <td>905</td>\n",
       "      <td>1988</td>\n",
       "      <td>2631</td>\n",
       "      <td>17</td>\n",
       "      <td>3</td>\n",
       "      <td>7</td>\n",
       "      <td>1</td>\n",
       "      <td>2</td>\n",
       "    </tr>\n",
       "    <tr>\n",
       "      <th>2</th>\n",
       "      <td>563</td>\n",
       "      <td>0.5</td>\n",
       "      <td>41</td>\n",
       "      <td>145</td>\n",
       "      <td>5</td>\n",
       "      <td>1263</td>\n",
       "      <td>1716</td>\n",
       "      <td>2603</td>\n",
       "      <td>11</td>\n",
       "      <td>2</td>\n",
       "      <td>9</td>\n",
       "      <td>1</td>\n",
       "      <td>2</td>\n",
       "    </tr>\n",
       "    <tr>\n",
       "      <th>3</th>\n",
       "      <td>615</td>\n",
       "      <td>2.5</td>\n",
       "      <td>10</td>\n",
       "      <td>131</td>\n",
       "      <td>6</td>\n",
       "      <td>1216</td>\n",
       "      <td>1786</td>\n",
       "      <td>2769</td>\n",
       "      <td>16</td>\n",
       "      <td>8</td>\n",
       "      <td>11</td>\n",
       "      <td>0</td>\n",
       "      <td>2</td>\n",
       "    </tr>\n",
       "    <tr>\n",
       "      <th>4</th>\n",
       "      <td>1821</td>\n",
       "      <td>1.2</td>\n",
       "      <td>44</td>\n",
       "      <td>141</td>\n",
       "      <td>2</td>\n",
       "      <td>1208</td>\n",
       "      <td>1212</td>\n",
       "      <td>1411</td>\n",
       "      <td>8</td>\n",
       "      <td>2</td>\n",
       "      <td>15</td>\n",
       "      <td>1</td>\n",
       "      <td>1</td>\n",
       "    </tr>\n",
       "    <tr>\n",
       "      <th>...</th>\n",
       "      <td>...</td>\n",
       "      <td>...</td>\n",
       "      <td>...</td>\n",
       "      <td>...</td>\n",
       "      <td>...</td>\n",
       "      <td>...</td>\n",
       "      <td>...</td>\n",
       "      <td>...</td>\n",
       "      <td>...</td>\n",
       "      <td>...</td>\n",
       "      <td>...</td>\n",
       "      <td>...</td>\n",
       "      <td>...</td>\n",
       "    </tr>\n",
       "    <tr>\n",
       "      <th>1995</th>\n",
       "      <td>794</td>\n",
       "      <td>0.5</td>\n",
       "      <td>2</td>\n",
       "      <td>106</td>\n",
       "      <td>6</td>\n",
       "      <td>1222</td>\n",
       "      <td>1890</td>\n",
       "      <td>668</td>\n",
       "      <td>13</td>\n",
       "      <td>4</td>\n",
       "      <td>19</td>\n",
       "      <td>1</td>\n",
       "      <td>0</td>\n",
       "    </tr>\n",
       "    <tr>\n",
       "      <th>1996</th>\n",
       "      <td>1965</td>\n",
       "      <td>2.6</td>\n",
       "      <td>39</td>\n",
       "      <td>187</td>\n",
       "      <td>4</td>\n",
       "      <td>915</td>\n",
       "      <td>1965</td>\n",
       "      <td>2032</td>\n",
       "      <td>11</td>\n",
       "      <td>10</td>\n",
       "      <td>16</td>\n",
       "      <td>1</td>\n",
       "      <td>2</td>\n",
       "    </tr>\n",
       "    <tr>\n",
       "      <th>1997</th>\n",
       "      <td>1911</td>\n",
       "      <td>0.9</td>\n",
       "      <td>36</td>\n",
       "      <td>108</td>\n",
       "      <td>8</td>\n",
       "      <td>868</td>\n",
       "      <td>1632</td>\n",
       "      <td>3057</td>\n",
       "      <td>9</td>\n",
       "      <td>1</td>\n",
       "      <td>5</td>\n",
       "      <td>1</td>\n",
       "      <td>3</td>\n",
       "    </tr>\n",
       "    <tr>\n",
       "      <th>1998</th>\n",
       "      <td>1512</td>\n",
       "      <td>0.9</td>\n",
       "      <td>46</td>\n",
       "      <td>145</td>\n",
       "      <td>5</td>\n",
       "      <td>336</td>\n",
       "      <td>670</td>\n",
       "      <td>869</td>\n",
       "      <td>18</td>\n",
       "      <td>10</td>\n",
       "      <td>19</td>\n",
       "      <td>1</td>\n",
       "      <td>0</td>\n",
       "    </tr>\n",
       "    <tr>\n",
       "      <th>1999</th>\n",
       "      <td>510</td>\n",
       "      <td>2.0</td>\n",
       "      <td>45</td>\n",
       "      <td>168</td>\n",
       "      <td>6</td>\n",
       "      <td>483</td>\n",
       "      <td>754</td>\n",
       "      <td>3919</td>\n",
       "      <td>19</td>\n",
       "      <td>4</td>\n",
       "      <td>2</td>\n",
       "      <td>1</td>\n",
       "      <td>3</td>\n",
       "    </tr>\n",
       "  </tbody>\n",
       "</table>\n",
       "<p>2000 rows × 13 columns</p>\n",
       "</div>"
      ],
      "text/plain": [
       "      battery_power  clock_speed  int_memory  mobile_wt  n_cores  px_height  \\\n",
       "0               842          2.2           7        188        2         20   \n",
       "1              1021          0.5          53        136        3        905   \n",
       "2               563          0.5          41        145        5       1263   \n",
       "3               615          2.5          10        131        6       1216   \n",
       "4              1821          1.2          44        141        2       1208   \n",
       "...             ...          ...         ...        ...      ...        ...   \n",
       "1995            794          0.5           2        106        6       1222   \n",
       "1996           1965          2.6          39        187        4        915   \n",
       "1997           1911          0.9          36        108        8        868   \n",
       "1998           1512          0.9          46        145        5        336   \n",
       "1999            510          2.0          45        168        6        483   \n",
       "\n",
       "      px_width   ram  sc_h  sc_w  talk_time  touch_screen  price_range  \n",
       "0          756  2549     9     7         19             0            1  \n",
       "1         1988  2631    17     3          7             1            2  \n",
       "2         1716  2603    11     2          9             1            2  \n",
       "3         1786  2769    16     8         11             0            2  \n",
       "4         1212  1411     8     2         15             1            1  \n",
       "...        ...   ...   ...   ...        ...           ...          ...  \n",
       "1995      1890   668    13     4         19             1            0  \n",
       "1996      1965  2032    11    10         16             1            2  \n",
       "1997      1632  3057     9     1          5             1            3  \n",
       "1998       670   869    18    10         19             1            0  \n",
       "1999       754  3919    19     4          2             1            3  \n",
       "\n",
       "[2000 rows x 13 columns]"
      ]
     },
     "execution_count": 4,
     "metadata": {},
     "output_type": "execute_result"
    }
   ],
   "source": [
    "## 사용하지 않을 Column 제외\n",
    "mobile_df = mobile_df.drop(['blue', 'dual_sim', 'fc', 'four_g', 'm_dep', 'pc','three_g', 'wifi'], axis = 1)\n",
    "\n",
    "mobile_df"
   ]
  },
  {
   "cell_type": "code",
   "execution_count": 5,
   "id": "34bc9634",
   "metadata": {
    "scrolled": true
   },
   "outputs": [
    {
     "data": {
      "image/png": "[encoded data removed]",
      "text/plain": [
       "<Figure size 432x288 with 2 Axes>"
      ]
     },
     "metadata": {
      "needs_background": "light"
     },
     "output_type": "display_data"
    }
   ],
   "source": [
    "sns.heatmap(mobile_df.corr())\n",
    "plt.show()"
   ]
  },
  {
   "cell_type": "markdown",
   "id": "3b326d6c",
   "metadata": {},
   "source": [
    "### heatmap 상으로 각 column간의 상관이 낮아 보임"
   ]
  },
  {
   "cell_type": "markdown",
   "id": "4ea38451",
   "metadata": {},
   "source": [
    "## 가설 1. 화면크기가 커지면 배터리 용량이 커질것이다."
   ]
  },
  {
   "cell_type": "code",
   "execution_count": 6,
   "id": "c0a949ee",
   "metadata": {},
   "outputs": [
    {
     "data": {
      "text/html": [
       "<div>\n",
       "<style scoped>\n",
       "    .dataframe tbody tr th:only-of-type {\n",
       "        vertical-align: middle;\n",
       "    }\n",
       "\n",
       "    .dataframe tbody tr th {\n",
       "        vertical-align: top;\n",
       "    }\n",
       "\n",
       "    .dataframe thead th {\n",
       "        text-align: right;\n",
       "    }\n",
       "</style>\n",
       "<table border=\"1\" class=\"dataframe\">\n",
       "  <thead>\n",
       "    <tr style=\"text-align: right;\">\n",
       "      <th></th>\n",
       "      <th>battery_power</th>\n",
       "      <th>clock_speed</th>\n",
       "      <th>int_memory</th>\n",
       "      <th>mobile_wt</th>\n",
       "      <th>n_cores</th>\n",
       "      <th>px_height</th>\n",
       "      <th>px_width</th>\n",
       "      <th>ram</th>\n",
       "      <th>sc_h</th>\n",
       "      <th>sc_w</th>\n",
       "      <th>talk_time</th>\n",
       "      <th>touch_screen</th>\n",
       "      <th>price_range</th>\n",
       "      <th>SC</th>\n",
       "    </tr>\n",
       "  </thead>\n",
       "  <tbody>\n",
       "    <tr>\n",
       "      <th>0</th>\n",
       "      <td>842</td>\n",
       "      <td>2.2</td>\n",
       "      <td>7</td>\n",
       "      <td>188</td>\n",
       "      <td>2</td>\n",
       "      <td>20</td>\n",
       "      <td>756</td>\n",
       "      <td>2549</td>\n",
       "      <td>9</td>\n",
       "      <td>7</td>\n",
       "      <td>19</td>\n",
       "      <td>0</td>\n",
       "      <td>1</td>\n",
       "      <td>16</td>\n",
       "    </tr>\n",
       "    <tr>\n",
       "      <th>1</th>\n",
       "      <td>1021</td>\n",
       "      <td>0.5</td>\n",
       "      <td>53</td>\n",
       "      <td>136</td>\n",
       "      <td>3</td>\n",
       "      <td>905</td>\n",
       "      <td>1988</td>\n",
       "      <td>2631</td>\n",
       "      <td>17</td>\n",
       "      <td>3</td>\n",
       "      <td>7</td>\n",
       "      <td>1</td>\n",
       "      <td>2</td>\n",
       "      <td>20</td>\n",
       "    </tr>\n",
       "    <tr>\n",
       "      <th>2</th>\n",
       "      <td>563</td>\n",
       "      <td>0.5</td>\n",
       "      <td>41</td>\n",
       "      <td>145</td>\n",
       "      <td>5</td>\n",
       "      <td>1263</td>\n",
       "      <td>1716</td>\n",
       "      <td>2603</td>\n",
       "      <td>11</td>\n",
       "      <td>2</td>\n",
       "      <td>9</td>\n",
       "      <td>1</td>\n",
       "      <td>2</td>\n",
       "      <td>13</td>\n",
       "    </tr>\n",
       "    <tr>\n",
       "      <th>3</th>\n",
       "      <td>615</td>\n",
       "      <td>2.5</td>\n",
       "      <td>10</td>\n",
       "      <td>131</td>\n",
       "      <td>6</td>\n",
       "      <td>1216</td>\n",
       "      <td>1786</td>\n",
       "      <td>2769</td>\n",
       "      <td>16</td>\n",
       "      <td>8</td>\n",
       "      <td>11</td>\n",
       "      <td>0</td>\n",
       "      <td>2</td>\n",
       "      <td>24</td>\n",
       "    </tr>\n",
       "    <tr>\n",
       "      <th>4</th>\n",
       "      <td>1821</td>\n",
       "      <td>1.2</td>\n",
       "      <td>44</td>\n",
       "      <td>141</td>\n",
       "      <td>2</td>\n",
       "      <td>1208</td>\n",
       "      <td>1212</td>\n",
       "      <td>1411</td>\n",
       "      <td>8</td>\n",
       "      <td>2</td>\n",
       "      <td>15</td>\n",
       "      <td>1</td>\n",
       "      <td>1</td>\n",
       "      <td>10</td>\n",
       "    </tr>\n",
       "    <tr>\n",
       "      <th>...</th>\n",
       "      <td>...</td>\n",
       "      <td>...</td>\n",
       "      <td>...</td>\n",
       "      <td>...</td>\n",
       "      <td>...</td>\n",
       "      <td>...</td>\n",
       "      <td>...</td>\n",
       "      <td>...</td>\n",
       "      <td>...</td>\n",
       "      <td>...</td>\n",
       "      <td>...</td>\n",
       "      <td>...</td>\n",
       "      <td>...</td>\n",
       "      <td>...</td>\n",
       "    </tr>\n",
       "    <tr>\n",
       "      <th>1995</th>\n",
       "      <td>794</td>\n",
       "      <td>0.5</td>\n",
       "      <td>2</td>\n",
       "      <td>106</td>\n",
       "      <td>6</td>\n",
       "      <td>1222</td>\n",
       "      <td>1890</td>\n",
       "      <td>668</td>\n",
       "      <td>13</td>\n",
       "      <td>4</td>\n",
       "      <td>19</td>\n",
       "      <td>1</td>\n",
       "      <td>0</td>\n",
       "      <td>17</td>\n",
       "    </tr>\n",
       "    <tr>\n",
       "      <th>1996</th>\n",
       "      <td>1965</td>\n",
       "      <td>2.6</td>\n",
       "      <td>39</td>\n",
       "      <td>187</td>\n",
       "      <td>4</td>\n",
       "      <td>915</td>\n",
       "      <td>1965</td>\n",
       "      <td>2032</td>\n",
       "      <td>11</td>\n",
       "      <td>10</td>\n",
       "      <td>16</td>\n",
       "      <td>1</td>\n",
       "      <td>2</td>\n",
       "      <td>21</td>\n",
       "    </tr>\n",
       "    <tr>\n",
       "      <th>1997</th>\n",
       "      <td>1911</td>\n",
       "      <td>0.9</td>\n",
       "      <td>36</td>\n",
       "      <td>108</td>\n",
       "      <td>8</td>\n",
       "      <td>868</td>\n",
       "      <td>1632</td>\n",
       "      <td>3057</td>\n",
       "      <td>9</td>\n",
       "      <td>1</td>\n",
       "      <td>5</td>\n",
       "      <td>1</td>\n",
       "      <td>3</td>\n",
       "      <td>10</td>\n",
       "    </tr>\n",
       "    <tr>\n",
       "      <th>1998</th>\n",
       "      <td>1512</td>\n",
       "      <td>0.9</td>\n",
       "      <td>46</td>\n",
       "      <td>145</td>\n",
       "      <td>5</td>\n",
       "      <td>336</td>\n",
       "      <td>670</td>\n",
       "      <td>869</td>\n",
       "      <td>18</td>\n",
       "      <td>10</td>\n",
       "      <td>19</td>\n",
       "      <td>1</td>\n",
       "      <td>0</td>\n",
       "      <td>28</td>\n",
       "    </tr>\n",
       "    <tr>\n",
       "      <th>1999</th>\n",
       "      <td>510</td>\n",
       "      <td>2.0</td>\n",
       "      <td>45</td>\n",
       "      <td>168</td>\n",
       "      <td>6</td>\n",
       "      <td>483</td>\n",
       "      <td>754</td>\n",
       "      <td>3919</td>\n",
       "      <td>19</td>\n",
       "      <td>4</td>\n",
       "      <td>2</td>\n",
       "      <td>1</td>\n",
       "      <td>3</td>\n",
       "      <td>23</td>\n",
       "    </tr>\n",
       "  </tbody>\n",
       "</table>\n",
       "<p>2000 rows × 14 columns</p>\n",
       "</div>"
      ],
      "text/plain": [
       "      battery_power  clock_speed  int_memory  mobile_wt  n_cores  px_height  \\\n",
       "0               842          2.2           7        188        2         20   \n",
       "1              1021          0.5          53        136        3        905   \n",
       "2               563          0.5          41        145        5       1263   \n",
       "3               615          2.5          10        131        6       1216   \n",
       "4              1821          1.2          44        141        2       1208   \n",
       "...             ...          ...         ...        ...      ...        ...   \n",
       "1995            794          0.5           2        106        6       1222   \n",
       "1996           1965          2.6          39        187        4        915   \n",
       "1997           1911          0.9          36        108        8        868   \n",
       "1998           1512          0.9          46        145        5        336   \n",
       "1999            510          2.0          45        168        6        483   \n",
       "\n",
       "      px_width   ram  sc_h  sc_w  talk_time  touch_screen  price_range  SC  \n",
       "0          756  2549     9     7         19             0            1  16  \n",
       "1         1988  2631    17     3          7             1            2  20  \n",
       "2         1716  2603    11     2          9             1            2  13  \n",
       "3         1786  2769    16     8         11             0            2  24  \n",
       "4         1212  1411     8     2         15             1            1  10  \n",
       "...        ...   ...   ...   ...        ...           ...          ...  ..  \n",
       "1995      1890   668    13     4         19             1            0  17  \n",
       "1996      1965  2032    11    10         16             1            2  21  \n",
       "1997      1632  3057     9     1          5             1            3  10  \n",
       "1998       670   869    18    10         19             1            0  28  \n",
       "1999       754  3919    19     4          2             1            3  23  \n",
       "\n",
       "[2000 rows x 14 columns]"
      ]
     },
     "execution_count": 6,
     "metadata": {},
     "output_type": "execute_result"
    }
   ],
   "source": [
    "## 화면크기 = sc_h + sc_w\n",
    "## 크기는 h * w이지만 절대적인 크기를 구하는게 아닌 상대적인 수치가 필요하기 때문에 숫자를 작게하기 위해 더하기 사용\n",
    "## 1 X 1 = 1  , 1+1 = 2같은 특수한 상황이 없다는것을 전제로함\n",
    "\n",
    "mobile_df['SC'] = mobile_df['sc_h'] + mobile_df['sc_w']\n",
    "\n",
    "mobile_df## h * w 하여 새로운 column SC 추가"
   ]
  },
  {
   "cell_type": "code",
   "execution_count": 7,
   "id": "b45b8a67",
   "metadata": {},
   "outputs": [
    {
     "data": {
      "text/plain": [
       "Text(0, 0.5, 'battery power')"
      ]
     },
     "execution_count": 7,
     "metadata": {},
     "output_type": "execute_result"
    },
    {
     "data": {
      "image/png": "[encoded data removed]",
      "text/plain": [
       "<Figure size 432x288 with 1 Axes>"
      ]
     },
     "metadata": {
      "needs_background": "light"
     },
     "output_type": "display_data"
    }
   ],
   "source": [
    "sns.scatterplot(x = mobile_df['SC'],y = mobile_df['battery_power'])\n",
    "\n",
    "plt.xlabel(\"Screen Size (H * W)\")\n",
    "plt.ylabel(\"battery power\")"
   ]
  },
  {
   "cell_type": "markdown",
   "id": "0994c3a5",
   "metadata": {},
   "source": [
    "x가 증가함에따라 y가 증감하는 모습을 볼 수 없음으로 양, 음의 상관관계가 없다."
   ]
  },
  {
   "cell_type": "markdown",
   "id": "f0d7f6d1",
   "metadata": {},
   "source": [
    "## 가설 2. 코어클럭은 코어수에 반비례하고 코어클럭과 코어수는 가격에 비례한다."
   ]
  },
  {
   "cell_type": "code",
   "execution_count": 10,
   "id": "d9695ae8",
   "metadata": {},
   "outputs": [
    {
     "data": {
      "image/png": "[encoded data removed]",
      "text/plain": [
       "<Figure size 1080x720 with 1 Axes>"
      ]
     },
     "metadata": {
      "needs_background": "light"
     },
     "output_type": "display_data"
    }
   ],
   "source": [
    "sns.catplot(x ='n_cores', y = 'clock_speed', kind = \"bar\", data = mobile_df, height = 10, aspect = 15/10)\n",
    "plt.show()"
   ]
  },
  {
   "cell_type": "code",
   "execution_count": 11,
   "id": "292d73d5",
   "metadata": {},
   "outputs": [
    {
     "data": {
      "image/png": "[encoded data removed]",
      "text/plain": [
       "<Figure size 1147x720 with 1 Axes>"
      ]
     },
     "metadata": {
      "needs_background": "light"
     },
     "output_type": "display_data"
    }
   ],
   "source": [
    "sns.catplot(x ='n_cores', y = 'clock_speed', hue = 'price_range', kind = \"bar\", data = mobile_df, height = 10, aspect = 15/10)\n",
    "plt.show()"
   ]
  },
  {
   "cell_type": "markdown",
   "id": "664e468f",
   "metadata": {},
   "source": [
    "## ???! 분명하게 상관이 있을거라 생각했던 자료에서 상관관계를 찾을수 없었다.\n",
    " \n",
    " ### 가격에 변동을 주는 변수는 하나가 아닌 복합적이다.\n",
    "   - 다른 변수와 합치는 등 복합적인 자료가 필요함\n",
    "   - 가설3 또한 비슷한 답이 나올 것 같음\n",
    "   \n",
    " ### 가설 4. 가격에 크게 영향을 주는 변수는 `코어수`, `터치스크린 유무`, `메모리 용량`, `저장소 크기`\n",
    " \n",
    "  - 같은 기종이라도 가격의 차이를 만드는 요소라 생각되는 메모리 용량, 저장소 크기\n",
    "  - 기종별 급 나누기라 생각되는 코어수\n",
    "  - 모바일 폰의 구조적인 차이의 기준을 터치스크린 유무로 생각\n",
    "  - 각 항목에 가중치를 두어 종합적인 score를 만들어 가격과의 상관관계를 찾아봅시다.\n",
    "  - 터치스크린 유무는 0,1 로 표현되므로 값을 변경할 필요가 있을 것 같음"
   ]
  },
  {
   "cell_type": "code",
   "execution_count": 13,
   "id": "78ef1840",
   "metadata": {},
   "outputs": [
    {
     "data": {
      "text/plain": [
       "0        5112\n",
       "1       16104\n",
       "2       26440\n",
       "3       16674\n",
       "4        5820\n",
       "        ...  \n",
       "1995     8040\n",
       "1996    16568\n",
       "1997    49488\n",
       "1998     9150\n",
       "1999    47568\n",
       "Name: Score, Length: 2000, dtype: int64"
      ]
     },
     "execution_count": 13,
     "metadata": {},
     "output_type": "execute_result"
    }
   ],
   "source": [
    "mobile_df['Score'] =  ((mobile_df['ram'] + mobile_df['int_memory']) * mobile_df['n_cores']) * (mobile_df['touch_screen'] + 1)\n",
    "\n",
    "mobile_df['Score']"
   ]
  },
  {
   "cell_type": "code",
   "execution_count": 27,
   "id": "03a8aa84",
   "metadata": {},
   "outputs": [
    {
     "data": {
      "image/png": "[encoded data removed]",
      "text/plain": [
       "<Figure size 720x360 with 1 Axes>"
      ]
     },
     "metadata": {
      "needs_background": "light"
     },
     "output_type": "display_data"
    }
   ],
   "source": [
    "fig, ax = plt.subplots(1,1,figsize=(10,5))\n",
    "sns.kdeplot(x = mobile_df[mobile_df.price_range == 0]['Score'], ax = ax)\n",
    "sns.kdeplot(x = mobile_df[mobile_df.price_range == 1]['Score'], ax = ax)\n",
    "sns.kdeplot(x = mobile_df[mobile_df.price_range == 2]['Score'], ax = ax)\n",
    "sns.kdeplot(x = mobile_df[mobile_df.price_range == 3]['Score'], ax = ax)\n",
    "\n",
    "plt.xticks([i for i in range(0, 80000, 6000)])\n",
    "\n",
    "plt.legend(['0', '1', '2', '3'])\n",
    "\n",
    "plt.show()"
   ]
  },
  {
   "cell_type": "code",
   "execution_count": 17,
   "id": "0d98f73d",
   "metadata": {},
   "outputs": [
    {
     "data": {
      "text/plain": [
       "5825.356"
      ]
     },
     "execution_count": 17,
     "metadata": {},
     "output_type": "execute_result"
    }
   ],
   "source": [
    "mobile_df[mobile_df['price_range'] == 0]['Score'].mean()"
   ]
  },
  {
   "cell_type": "code",
   "execution_count": 18,
   "id": "5f7cfc50",
   "metadata": {},
   "outputs": [
    {
     "data": {
      "text/plain": [
       "11361.982"
      ]
     },
     "execution_count": 18,
     "metadata": {},
     "output_type": "execute_result"
    }
   ],
   "source": [
    "mobile_df[mobile_df['price_range'] == 1]['Score'].mean()"
   ]
  },
  {
   "cell_type": "code",
   "execution_count": 19,
   "id": "0f6bfbe1",
   "metadata": {},
   "outputs": [
    {
     "data": {
      "text/plain": [
       "18022.748"
      ]
     },
     "execution_count": 19,
     "metadata": {},
     "output_type": "execute_result"
    }
   ],
   "source": [
    "mobile_df[mobile_df['price_range'] == 2]['Score'].mean()"
   ]
  },
  {
   "cell_type": "code",
   "execution_count": 20,
   "id": "080942b7",
   "metadata": {},
   "outputs": [
    {
     "data": {
      "text/plain": [
       "23416.808"
      ]
     },
     "execution_count": 20,
     "metadata": {},
     "output_type": "execute_result"
    }
   ],
   "source": [
    "mobile_df[mobile_df['price_range'] == 3]['Score'].mean()"
   ]
  },
  {
   "cell_type": "markdown",
   "id": "8eb713ce",
   "metadata": {},
   "source": [
    "### price_range가 높아질수록 Score의 평균이 증가 하는 것을 찾을 수 있었다.\n",
    "\n",
    "  - 코어수, 터치스크린 유무, 메모리 용량, 저장소 크기는 가격대와 양의 상관관계가 있다."
   ]
  }
 ],
 "metadata": {
  "kernelspec": {
   "display_name": "Python 3",
   "language": "python",
   "name": "python3"
  },
  "language_info": {
   "codemirror_mode": {
    "name": "ipython",
    "version": 3
   },
   "file_extension": ".py",
   "mimetype": "text/x-python",
   "name": "python",
   "nbconvert_exporter": "python",
   "pygments_lexer": "ipython3",
   "version": "3.9.4"
  }
 },
 "nbformat": 4,
 "nbformat_minor": 5
}
